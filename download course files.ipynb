{
 "cells": [
  {
   "cell_type": "code",
   "execution_count": 1,
   "metadata": {},
   "outputs": [],
   "source": [
    "import canvasapi"
   ]
  },
  {
   "cell_type": "code",
   "execution_count": 2,
   "metadata": {},
   "outputs": [],
   "source": [
    "import tqdm"
   ]
  },
  {
   "cell_type": "code",
   "execution_count": 3,
   "metadata": {},
   "outputs": [],
   "source": [
    "credential = {\n",
    "    \"web_url\": \"https://courseworks2.columbia.edu/\",\n",
    "    \"token\": \"1396~E6GZ0tiz01nLqjL0mB9YTPxOh3ZbEQ7WOCF3r3wIDBsyDSFXukCQvlTtq366RZjM\"\n",
    "}\n"
   ]
  },
  {
   "cell_type": "code",
   "execution_count": 4,
   "metadata": {},
   "outputs": [],
   "source": [
    "# Import the Canvas class\n",
    "from canvasapi import Canvas\n",
    "\n",
    "# Initialize a new Canvas object\n",
    "canvas = Canvas(credential[\"web_url\"], credential[\"token\"])"
   ]
  },
  {
   "cell_type": "code",
   "execution_count": 5,
   "metadata": {},
   "outputs": [],
   "source": [
    "courses = canvas.get_courses()"
   ]
  },
  {
   "cell_type": "code",
   "execution_count": 85,
   "metadata": {},
   "outputs": [
    {
     "name": "stdout",
     "output_type": "stream",
     "text": [
      "COMSW4121_001_2020_1 - COMPUTER SYSTEMS FOR DATA SCIENCE COMSW4121_001_2020_1 - COMPUTER SYSTEMS FOR DATA SCIENCE (101065)\n",
      "COMSW4721_001_2020_1 - MACHINE LEARNING FOR DATA SCI COMSW4721_001_2020_1 - MACHINE LEARNING FOR DATA SCI (100940)\n",
      "COMSW4995_012_2020_1 - TOPICS IN COMPUTER SCIENCE COMSW4995_012_2020_1 - TOPICS IN COMPUTER SCIENCE (100948)\n",
      "COMSW4995_013_2020_1 - TOPICS IN COMPUTER SCIENCE COMSW4995_013_2020_1 - TOPICS IN COMPUTER SCIENCE (100952)\n",
      "CSORW4246_002_2019_3 - ALGORITHMS FOR DATA SCIENCE CSORW4246_002_2019_3 - ALGORITHMS FOR DATA SCIENCE (88674)\n",
      "ENGIE4000_006_2019_3 - PROF DEVELOPMENT&LEADERSHIP ENGIE4000_006_2019_3 - PROF DEVELOPMENT&LEADERSHIP (91459)\n",
      "IEORE4571_001_2019_3 - TOPICS IN OPERATIONS RESEARCH IEORE4571_001_2019_3 - TOPICS IN OPERATIONS RESEARCH (89821)\n",
      "SEAS_GSA_OT_2019_3 SEAS Mandatory Orientation Tutorials A19-S20 (91563)\n",
      "SEAS_GSA_VREQ_2019_3 SEAS Verification Requirement A19 (91890)\n",
      "Sexual Respect & Community Citizenship Initiative 2019 Sexual Respect & Community Citizenship Initiative (81595)\n",
      "STATGR5703_001_2019_3 - STAT INFERENCE & MODELING STATGR5703_001_2019_3 - STAT INFERENCE & MODELING (86033)\n",
      "STATW5702_001_2019_3 - EXPLORATORY DATA ANALYSIS/VISUAL STATW5702_001_2019_3 - EXPLORATORY DATA ANALYSIS/VISUAL (86100)\n"
     ]
    }
   ],
   "source": [
    "for course in courses:\n",
    "    print(course)"
   ]
  },
  {
   "cell_type": "code",
   "execution_count": 7,
   "metadata": {},
   "outputs": [],
   "source": [
    "alg_course = courses[4]"
   ]
  },
  {
   "cell_type": "code",
   "execution_count": 9,
   "metadata": {},
   "outputs": [],
   "source": [
    "from pathlib import Path"
   ]
  },
  {
   "cell_type": "code",
   "execution_count": 24,
   "metadata": {},
   "outputs": [],
   "source": [
    "def recursive_files(folder, path: Path):\n",
    "    print(\"current folder: {}\".format(path))\n",
    "    if not path.is_dir(): path.mkdir(parents=True)\n",
    "    for file in folder.get_files():\n",
    "        file_path = path / Path(file.filename)\n",
    "        print(\"\\t {}\".format(file_path))\n",
    "        if not file_path.exists() or file_path.stat().st_size < 20: file.download(file_path)\n",
    "    \n",
    "    for sibiling in folder.get_folders():\n",
    "        folder_name = sibiling.name\n",
    "        recursive_files(sibiling, path / Path(folder_name))"
   ]
  },
  {
   "cell_type": "code",
   "execution_count": 26,
   "metadata": {
    "scrolled": true
   },
   "outputs": [
    {
     "name": "stdout",
     "output_type": "stream",
     "text": [
      "current folder: /media/ExtHDD01/Courses_Materials/COMSW4121_001_2020_1_-_COMPUTER_SYSTEMS_FOR_DATA_SCIENCE\n",
      "\t /media/ExtHDD01/Courses_Materials/COMSW4121_001_2020_1_-_COMPUTER_SYSTEMS_FOR_DATA_SCIENCE/hw1_submission.py\n",
      "current folder: /media/ExtHDD01/Courses_Materials/COMSW4721_001_2020_1_-_MACHINE_LEARNING_FOR_DATA_SCI\n",
      "\t /media/ExtHDD01/Courses_Materials/COMSW4721_001_2020_1_-_MACHINE_LEARNING_FOR_DATA_SCI/course_syllabus.pdf\n",
      "\t /media/ExtHDD01/Courses_Materials/COMSW4721_001_2020_1_-_MACHINE_LEARNING_FOR_DATA_SCI/module1_lec.pdf\n",
      "current folder: /media/ExtHDD01/Courses_Materials/COMSW4995_012_2020_1_-_TOPICS_IN_COMPUTER_SCIENCE\n",
      "\t /media/ExtHDD01/Courses_Materials/COMSW4995_012_2020_1_-_TOPICS_IN_COMPUTER_SCIENCE/a1.ipynb\n",
      "\t /media/ExtHDD01/Courses_Materials/COMSW4995_012_2020_1_-_TOPICS_IN_COMPUTER_SCIENCE/syllabus.pdf\n",
      "current folder: /media/ExtHDD01/Courses_Materials/COMSW4995_013_2020_1_-_TOPICS_IN_COMPUTER_SCIENCE\n",
      "\t /media/ExtHDD01/Courses_Materials/COMSW4995_013_2020_1_-_TOPICS_IN_COMPUTER_SCIENCE/ch1.pdf\n",
      "current folder: /media/ExtHDD01/Courses_Materials/CSORW4246_002_2019_3_-_ALGORITHMS_FOR_DATA_SCIENCE\n",
      "current folder: /media/ExtHDD01/Courses_Materials/CSORW4246_002_2019_3_-_ALGORITHMS_FOR_DATA_SCIENCE/Lectures\n",
      "\t /media/ExtHDD01/Courses_Materials/CSORW4246_002_2019_3_-_ALGORITHMS_FOR_DATA_SCIENCE/Lectures/1-insertionsort.pdf\n",
      "\t /media/ExtHDD01/Courses_Materials/CSORW4246_002_2019_3_-_ALGORITHMS_FOR_DATA_SCIENCE/Lectures/2-mergesort.pdf\n",
      "\t /media/ExtHDD01/Courses_Materials/CSORW4246_002_2019_3_-_ALGORITHMS_FOR_DATA_SCIENCE/Lectures/4-quicksort_and_balls-in-bins.pdf\n",
      "\t /media/ExtHDD01/Courses_Materials/CSORW4246_002_2019_3_-_ALGORITHMS_FOR_DATA_SCIENCE/Lectures/4-randQuicksort.pdf\n",
      "\t /media/ExtHDD01/Courses_Materials/CSORW4246_002_2019_3_-_ALGORITHMS_FOR_DATA_SCIENCE/Lectures/graphs-BFS.pdf\n",
      "\t /media/ExtHDD01/Courses_Materials/CSORW4246_002_2019_3_-_ALGORITHMS_FOR_DATA_SCIENCE/Lectures/6-DFS-toposort.pdf\n",
      "\t /media/ExtHDD01/Courses_Materials/CSORW4246_002_2019_3_-_ALGORITHMS_FOR_DATA_SCIENCE/Lectures/7+%26+8-SCCs.pdf\n",
      "\t /media/ExtHDD01/Courses_Materials/CSORW4246_002_2019_3_-_ALGORITHMS_FOR_DATA_SCIENCE/Lectures/9-datasegmentation.pdf\n",
      "\t /media/ExtHDD01/Courses_Materials/CSORW4246_002_2019_3_-_ALGORITHMS_FOR_DATA_SCIENCE/Lectures/10-sequencealignment.pdf\n",
      "\t /media/ExtHDD01/Courses_Materials/CSORW4246_002_2019_3_-_ALGORITHMS_FOR_DATA_SCIENCE/Lectures/11-BelmanF-FW.pdf\n",
      "\t /media/ExtHDD01/Courses_Materials/CSORW4246_002_2019_3_-_ALGORITHMS_FOR_DATA_SCIENCE/Lectures/12-huffman.pdf\n",
      "\t /media/ExtHDD01/Courses_Materials/CSORW4246_002_2019_3_-_ALGORITHMS_FOR_DATA_SCIENCE/Lectures/13+%26+26-hashing.pdf\n",
      "\t /media/ExtHDD01/Courses_Materials/CSORW4246_002_2019_3_-_ALGORITHMS_FOR_DATA_SCIENCE/Lectures/15+%26+16-flows.pdf\n",
      "\t /media/ExtHDD01/Courses_Materials/CSORW4246_002_2019_3_-_ALGORITHMS_FOR_DATA_SCIENCE/Lectures/17-LP_part1.pdf\n",
      "\t /media/ExtHDD01/Courses_Materials/CSORW4246_002_2019_3_-_ALGORITHMS_FOR_DATA_SCIENCE/Lectures/19-LP-part2.pdf\n",
      "\t /media/ExtHDD01/Courses_Materials/CSORW4246_002_2019_3_-_ALGORITHMS_FOR_DATA_SCIENCE/Lectures/20+%26+21-reductions.pdf\n",
      "\t /media/ExtHDD01/Courses_Materials/CSORW4246_002_2019_3_-_ALGORITHMS_FOR_DATA_SCIENCE/Lectures/22-SAT.pdf\n",
      "\t /media/ExtHDD01/Courses_Materials/CSORW4246_002_2019_3_-_ALGORITHMS_FOR_DATA_SCIENCE/Lectures/23+%26+25-moreNPcomplete.pdf\n",
      "\t /media/ExtHDD01/Courses_Materials/CSORW4246_002_2019_3_-_ALGORITHMS_FOR_DATA_SCIENCE/Lectures/27-H%26A+and+PR.pdf\n",
      "current folder: /media/ExtHDD01/Courses_Materials/CSORW4246_002_2019_3_-_ALGORITHMS_FOR_DATA_SCIENCE/Lectures/Optional material\n",
      "\t /media/ExtHDD01/Courses_Materials/CSORW4246_002_2019_3_-_ALGORITHMS_FOR_DATA_SCIENCE/Lectures/Optional material/mastertheorem.pdf\n",
      "\t /media/ExtHDD01/Courses_Materials/CSORW4246_002_2019_3_-_ALGORITHMS_FOR_DATA_SCIENCE/Lectures/Optional material/matrixchainmult.pdf\n",
      "current folder: /media/ExtHDD01/Courses_Materials/CSORW4246_002_2019_3_-_ALGORITHMS_FOR_DATA_SCIENCE/Programming assignments\n",
      "current folder: /media/ExtHDD01/Courses_Materials/CSORW4246_002_2019_3_-_ALGORITHMS_FOR_DATA_SCIENCE/Programming assignments/hw1p\n",
      "\t /media/ExtHDD01/Courses_Materials/CSORW4246_002_2019_3_-_ALGORITHMS_FOR_DATA_SCIENCE/Programming assignments/hw1p/DFS-HW.ipynb\n",
      "\t /media/ExtHDD01/Courses_Materials/CSORW4246_002_2019_3_-_ALGORITHMS_FOR_DATA_SCIENCE/Programming assignments/hw1p/homer.dat\n",
      "\t /media/ExtHDD01/Courses_Materials/CSORW4246_002_2019_3_-_ALGORITHMS_FOR_DATA_SCIENCE/Programming assignments/hw1p/Instructions+for+hw1-programming+%282%29.pdf\n",
      "current folder: /media/ExtHDD01/Courses_Materials/CSORW4246_002_2019_3_-_ALGORITHMS_FOR_DATA_SCIENCE/Programming assignments/hw3p\n",
      "\t /media/ExtHDD01/Courses_Materials/CSORW4246_002_2019_3_-_ALGORITHMS_FOR_DATA_SCIENCE/Programming assignments/hw3p/contiguous-usa.dat\n",
      "\t /media/ExtHDD01/Courses_Materials/CSORW4246_002_2019_3_-_ALGORITHMS_FOR_DATA_SCIENCE/Programming assignments/hw3p/Flow-HW.ipynb\n",
      "\t /media/ExtHDD01/Courses_Materials/CSORW4246_002_2019_3_-_ALGORITHMS_FOR_DATA_SCIENCE/Programming assignments/hw3p/Instructions+for+hw3-programming.pdf\n",
      "current folder: /media/ExtHDD01/Courses_Materials/CSORW4246_002_2019_3_-_ALGORITHMS_FOR_DATA_SCIENCE/Programming assignments/hw4p\n",
      "\t /media/ExtHDD01/Courses_Materials/CSORW4246_002_2019_3_-_ALGORITHMS_FOR_DATA_SCIENCE/Programming assignments/hw4p/gte_bad.40\n",
      "\t /media/ExtHDD01/Courses_Materials/CSORW4246_002_2019_3_-_ALGORITHMS_FOR_DATA_SCIENCE/Programming assignments/hw4p/gte_bad.6830\n",
      "\t /media/ExtHDD01/Courses_Materials/CSORW4246_002_2019_3_-_ALGORITHMS_FOR_DATA_SCIENCE/Programming assignments/hw4p/gte_bad.176280\n",
      "\t /media/ExtHDD01/Courses_Materials/CSORW4246_002_2019_3_-_ALGORITHMS_FOR_DATA_SCIENCE/Programming assignments/hw4p/info.txt\n",
      "\t /media/ExtHDD01/Courses_Materials/CSORW4246_002_2019_3_-_ALGORITHMS_FOR_DATA_SCIENCE/Programming assignments/hw4p/Instructions+for+hw4-programming.pdf\n",
      "\t /media/ExtHDD01/Courses_Materials/CSORW4246_002_2019_3_-_ALGORITHMS_FOR_DATA_SCIENCE/Programming assignments/hw4p/hw4p.ipynb\n",
      "current folder: /media/ExtHDD01/Courses_Materials/CSORW4246_002_2019_3_-_ALGORITHMS_FOR_DATA_SCIENCE/Programming assignments/hw5p\n",
      "\t /media/ExtHDD01/Courses_Materials/CSORW4246_002_2019_3_-_ALGORITHMS_FOR_DATA_SCIENCE/Programming assignments/hw5p/Instructions+for+hw5-programming.pdf\n",
      "\t /media/ExtHDD01/Courses_Materials/CSORW4246_002_2019_3_-_ALGORITHMS_FOR_DATA_SCIENCE/Programming assignments/hw5p/IP-HW.ipynb\n",
      "\t /media/ExtHDD01/Courses_Materials/CSORW4246_002_2019_3_-_ALGORITHMS_FOR_DATA_SCIENCE/Programming assignments/hw5p/karate.gml\n",
      "\t /media/ExtHDD01/Courses_Materials/CSORW4246_002_2019_3_-_ALGORITHMS_FOR_DATA_SCIENCE/Programming assignments/hw5p/power.gml\n",
      "current folder: /media/ExtHDD01/Courses_Materials/CSORW4246_002_2019_3_-_ALGORITHMS_FOR_DATA_SCIENCE/Review sessions\n",
      "current folder: /media/ExtHDD01/Courses_Materials/CSORW4246_002_2019_3_-_ALGORITHMS_FOR_DATA_SCIENCE/Review sessions/final review session\n",
      "\t /media/ExtHDD01/Courses_Materials/CSORW4246_002_2019_3_-_ALGORITHMS_FOR_DATA_SCIENCE/Review sessions/final review session/f2019-finalreview.pdf\n",
      "\t /media/ExtHDD01/Courses_Materials/CSORW4246_002_2019_3_-_ALGORITHMS_FOR_DATA_SCIENCE/Review sessions/final review session/f2019-finalsolns-slides.pdf\n",
      "current folder: /media/ExtHDD01/Courses_Materials/CSORW4246_002_2019_3_-_ALGORITHMS_FOR_DATA_SCIENCE/Review sessions/midterm review session\n",
      "\t /media/ExtHDD01/Courses_Materials/CSORW4246_002_2019_3_-_ALGORITHMS_FOR_DATA_SCIENCE/Review sessions/midterm review session/midrev-f19.pdf\n",
      "\t /media/ExtHDD01/Courses_Materials/CSORW4246_002_2019_3_-_ALGORITHMS_FOR_DATA_SCIENCE/Review sessions/midterm review session/midrevsolns-f19.pdf\n",
      "current folder: /media/ExtHDD01/Courses_Materials/CSORW4246_002_2019_3_-_ALGORITHMS_FOR_DATA_SCIENCE/Review sessions/python tutorial\n",
      "\t /media/ExtHDD01/Courses_Materials/CSORW4246_002_2019_3_-_ALGORITHMS_FOR_DATA_SCIENCE/Review sessions/python tutorial/contiguous-usa+.dat\n",
      "\t /media/ExtHDD01/Courses_Materials/CSORW4246_002_2019_3_-_ALGORITHMS_FOR_DATA_SCIENCE/Review sessions/python tutorial/Python_and_NetworkX2.ipynb\n",
      "current folder: /media/ExtHDD01/Courses_Materials/CSORW4246_002_2019_3_-_ALGORITHMS_FOR_DATA_SCIENCE/Theory assignments\n",
      "\t /media/ExtHDD01/Courses_Materials/CSORW4246_002_2019_3_-_ALGORITHMS_FOR_DATA_SCIENCE/Theory assignments/hw1+template.pdf\n",
      "\t /media/ExtHDD01/Courses_Materials/CSORW4246_002_2019_3_-_ALGORITHMS_FOR_DATA_SCIENCE/Theory assignments/hw1+template.tex\n",
      "\t /media/ExtHDD01/Courses_Materials/CSORW4246_002_2019_3_-_ALGORITHMS_FOR_DATA_SCIENCE/Theory assignments/hw1-t.pdf\n",
      "\t /media/ExtHDD01/Courses_Materials/CSORW4246_002_2019_3_-_ALGORITHMS_FOR_DATA_SCIENCE/Theory assignments/hw2t.pdf\n",
      "\t /media/ExtHDD01/Courses_Materials/CSORW4246_002_2019_3_-_ALGORITHMS_FOR_DATA_SCIENCE/Theory assignments/hw3-t.pdf\n",
      "\t /media/ExtHDD01/Courses_Materials/CSORW4246_002_2019_3_-_ALGORITHMS_FOR_DATA_SCIENCE/Theory assignments/hw4-t-f2019.pdf\n",
      "current folder: /media/ExtHDD01/Courses_Materials/CSORW4246_002_2019_3_-_ALGORITHMS_FOR_DATA_SCIENCE/Theory solutions\n"
     ]
    },
    {
     "name": "stdout",
     "output_type": "stream",
     "text": [
      "\t /media/ExtHDD01/Courses_Materials/CSORW4246_002_2019_3_-_ALGORITHMS_FOR_DATA_SCIENCE/Theory solutions/hw1tsolns-f2019.pdf\n",
      "\t /media/ExtHDD01/Courses_Materials/CSORW4246_002_2019_3_-_ALGORITHMS_FOR_DATA_SCIENCE/Theory solutions/hw2tsolns-f2019.pdf\n",
      "\t /media/ExtHDD01/Courses_Materials/CSORW4246_002_2019_3_-_ALGORITHMS_FOR_DATA_SCIENCE/Theory solutions/hw3t-soln.pdf\n",
      "\t /media/ExtHDD01/Courses_Materials/CSORW4246_002_2019_3_-_ALGORITHMS_FOR_DATA_SCIENCE/Theory solutions/hw4tsoln-f2019.pdf\n",
      "\t /media/ExtHDD01/Courses_Materials/CSORW4246_002_2019_3_-_ALGORITHMS_FOR_DATA_SCIENCE/Theory solutions/midtermsolns-f2019.pdf\n",
      "current folder: /media/ExtHDD01/Courses_Materials/ENGIE4000_006_2019_3_-_PROF_DEVELOPMENT&LEADERSHIP\n",
      "\t /media/ExtHDD01/Courses_Materials/ENGIE4000_006_2019_3_-_PROF_DEVELOPMENT&LEADERSHIP/Columbia+Engineering+Executive+Presence.pdf\n",
      "\t /media/ExtHDD01/Courses_Materials/ENGIE4000_006_2019_3_-_PROF_DEVELOPMENT&LEADERSHIP/ENGI_4000_F19_Overview_6+-+DSI.pdf\n",
      "\t /media/ExtHDD01/Courses_Materials/ENGIE4000_006_2019_3_-_PROF_DEVELOPMENT&LEADERSHIP/ENGI_4000_F19_Resume_6+-+DSI.pdf\n",
      "\t /media/ExtHDD01/Courses_Materials/ENGIE4000_006_2019_3_-_PROF_DEVELOPMENT&LEADERSHIP/ENGI_4000_F19_Writing_EMS.pdf\n",
      "\t /media/ExtHDD01/Courses_Materials/ENGIE4000_006_2019_3_-_PROF_DEVELOPMENT&LEADERSHIP/ENGI_4000_PDL_Syllabus_Fall2019.pdf\n",
      "\t /media/ExtHDD01/Courses_Materials/ENGIE4000_006_2019_3_-_PROF_DEVELOPMENT&LEADERSHIP/Garcia+Intro+to+Ethics+Columbia+Engineering.pdf\n",
      "\t /media/ExtHDD01/Courses_Materials/ENGIE4000_006_2019_3_-_PROF_DEVELOPMENT&LEADERSHIP/In.Person.Communication.Columbia.PDL.pdf\n"
     ]
    },
    {
     "ename": "KeyboardInterrupt",
     "evalue": "",
     "output_type": "error",
     "traceback": [
      "\u001b[0;31m---------------------------------------------------------------------------\u001b[0m",
      "\u001b[0;31mKeyboardInterrupt\u001b[0m                         Traceback (most recent call last)",
      "\u001b[0;32m<ipython-input-26-5c0f7068e384>\u001b[0m in \u001b[0;36m<module>\u001b[0;34m\u001b[0m\n\u001b[1;32m      1\u001b[0m \u001b[0;32mfor\u001b[0m \u001b[0mcourse\u001b[0m \u001b[0;32min\u001b[0m \u001b[0mcourses\u001b[0m\u001b[0;34m:\u001b[0m\u001b[0;34m\u001b[0m\u001b[0;34m\u001b[0m\u001b[0m\n\u001b[0;32m----> 2\u001b[0;31m     recursive_files(course.get_folders()[0], \n\u001b[0m\u001b[1;32m      3\u001b[0m                     Path(\"/media/ExtHDD01/Courses_Materials/{}\".format(course.name.replace(\" \", \"_\"))).absolute())\n",
      "\u001b[0;32m<ipython-input-24-f47263706bb5>\u001b[0m in \u001b[0;36mrecursive_files\u001b[0;34m(folder, path)\u001b[0m\n\u001b[1;32m      5\u001b[0m         \u001b[0mfile_path\u001b[0m \u001b[0;34m=\u001b[0m \u001b[0mpath\u001b[0m \u001b[0;34m/\u001b[0m \u001b[0mPath\u001b[0m\u001b[0;34m(\u001b[0m\u001b[0mfile\u001b[0m\u001b[0;34m.\u001b[0m\u001b[0mfilename\u001b[0m\u001b[0;34m)\u001b[0m\u001b[0;34m\u001b[0m\u001b[0;34m\u001b[0m\u001b[0m\n\u001b[1;32m      6\u001b[0m         \u001b[0mprint\u001b[0m\u001b[0;34m(\u001b[0m\u001b[0;34m\"\\t {}\"\u001b[0m\u001b[0;34m.\u001b[0m\u001b[0mformat\u001b[0m\u001b[0;34m(\u001b[0m\u001b[0mfile_path\u001b[0m\u001b[0;34m)\u001b[0m\u001b[0;34m)\u001b[0m\u001b[0;34m\u001b[0m\u001b[0;34m\u001b[0m\u001b[0m\n\u001b[0;32m----> 7\u001b[0;31m         \u001b[0;32mif\u001b[0m \u001b[0;32mnot\u001b[0m \u001b[0mfile_path\u001b[0m\u001b[0;34m.\u001b[0m\u001b[0mexists\u001b[0m\u001b[0;34m(\u001b[0m\u001b[0;34m)\u001b[0m \u001b[0;32mor\u001b[0m \u001b[0mfile_path\u001b[0m\u001b[0;34m.\u001b[0m\u001b[0mstat\u001b[0m\u001b[0;34m(\u001b[0m\u001b[0;34m)\u001b[0m\u001b[0;34m.\u001b[0m\u001b[0mst_size\u001b[0m \u001b[0;34m<\u001b[0m \u001b[0;36m20\u001b[0m\u001b[0;34m:\u001b[0m \u001b[0mfile\u001b[0m\u001b[0;34m.\u001b[0m\u001b[0mdownload\u001b[0m\u001b[0;34m(\u001b[0m\u001b[0mfile_path\u001b[0m\u001b[0;34m)\u001b[0m\u001b[0;34m\u001b[0m\u001b[0;34m\u001b[0m\u001b[0m\n\u001b[0m\u001b[1;32m      8\u001b[0m \u001b[0;34m\u001b[0m\u001b[0m\n\u001b[1;32m      9\u001b[0m     \u001b[0;32mfor\u001b[0m \u001b[0msibiling\u001b[0m \u001b[0;32min\u001b[0m \u001b[0mfolder\u001b[0m\u001b[0;34m.\u001b[0m\u001b[0mget_folders\u001b[0m\u001b[0;34m(\u001b[0m\u001b[0;34m)\u001b[0m\u001b[0;34m:\u001b[0m\u001b[0;34m\u001b[0m\u001b[0;34m\u001b[0m\u001b[0m\n",
      "\u001b[0;32m~/.conda/envs/web/lib/python3.8/site-packages/canvasapi/file.py\u001b[0m in \u001b[0;36mdownload\u001b[0;34m(self, location)\u001b[0m\n\u001b[1;32m     30\u001b[0m         \u001b[0;34m:\u001b[0m\u001b[0mtype\u001b[0m \u001b[0mlocation\u001b[0m\u001b[0;34m:\u001b[0m \u001b[0mstr\u001b[0m\u001b[0;34m\u001b[0m\u001b[0;34m\u001b[0m\u001b[0m\n\u001b[1;32m     31\u001b[0m         \"\"\"\n\u001b[0;32m---> 32\u001b[0;31m         \u001b[0mresponse\u001b[0m \u001b[0;34m=\u001b[0m \u001b[0mself\u001b[0m\u001b[0;34m.\u001b[0m\u001b[0m_requester\u001b[0m\u001b[0;34m.\u001b[0m\u001b[0mrequest\u001b[0m\u001b[0;34m(\u001b[0m\u001b[0;34m\"GET\"\u001b[0m\u001b[0;34m,\u001b[0m \u001b[0m_url\u001b[0m\u001b[0;34m=\u001b[0m\u001b[0mself\u001b[0m\u001b[0;34m.\u001b[0m\u001b[0murl\u001b[0m\u001b[0;34m)\u001b[0m\u001b[0;34m\u001b[0m\u001b[0;34m\u001b[0m\u001b[0m\n\u001b[0m\u001b[1;32m     33\u001b[0m \u001b[0;34m\u001b[0m\u001b[0m\n\u001b[1;32m     34\u001b[0m         \u001b[0;32mwith\u001b[0m \u001b[0mopen\u001b[0m\u001b[0;34m(\u001b[0m\u001b[0mlocation\u001b[0m\u001b[0;34m,\u001b[0m \u001b[0;34m\"wb\"\u001b[0m\u001b[0;34m)\u001b[0m \u001b[0;32mas\u001b[0m \u001b[0mfile_out\u001b[0m\u001b[0;34m:\u001b[0m\u001b[0;34m\u001b[0m\u001b[0;34m\u001b[0m\u001b[0m\n",
      "\u001b[0;32m~/.conda/envs/web/lib/python3.8/site-packages/canvasapi/requester.py\u001b[0m in \u001b[0;36mrequest\u001b[0;34m(self, method, endpoint, headers, use_auth, _url, _kwargs, **kwargs)\u001b[0m\n\u001b[1;32m    208\u001b[0m \u001b[0;34m\u001b[0m\u001b[0m\n\u001b[1;32m    209\u001b[0m         \u001b[0;32mtry\u001b[0m\u001b[0;34m:\u001b[0m\u001b[0;34m\u001b[0m\u001b[0;34m\u001b[0m\u001b[0m\n\u001b[0;32m--> 210\u001b[0;31m             \u001b[0mlogger\u001b[0m\u001b[0;34m.\u001b[0m\u001b[0mdebug\u001b[0m\u001b[0;34m(\u001b[0m\u001b[0;34m\"Data: {data}\"\u001b[0m\u001b[0;34m.\u001b[0m\u001b[0mformat\u001b[0m\u001b[0;34m(\u001b[0m\u001b[0mdata\u001b[0m\u001b[0;34m=\u001b[0m\u001b[0mpformat\u001b[0m\u001b[0;34m(\u001b[0m\u001b[0mresponse\u001b[0m\u001b[0;34m.\u001b[0m\u001b[0mjson\u001b[0m\u001b[0;34m(\u001b[0m\u001b[0;34m)\u001b[0m\u001b[0;34m)\u001b[0m\u001b[0;34m)\u001b[0m\u001b[0;34m)\u001b[0m\u001b[0;34m\u001b[0m\u001b[0;34m\u001b[0m\u001b[0m\n\u001b[0m\u001b[1;32m    211\u001b[0m         \u001b[0;32mexcept\u001b[0m \u001b[0mValueError\u001b[0m\u001b[0;34m:\u001b[0m\u001b[0;34m\u001b[0m\u001b[0;34m\u001b[0m\u001b[0m\n\u001b[1;32m    212\u001b[0m             \u001b[0mlogger\u001b[0m\u001b[0;34m.\u001b[0m\u001b[0mdebug\u001b[0m\u001b[0;34m(\u001b[0m\u001b[0;34m\"Data: {data}\"\u001b[0m\u001b[0;34m.\u001b[0m\u001b[0mformat\u001b[0m\u001b[0;34m(\u001b[0m\u001b[0mdata\u001b[0m\u001b[0;34m=\u001b[0m\u001b[0mpformat\u001b[0m\u001b[0;34m(\u001b[0m\u001b[0mresponse\u001b[0m\u001b[0;34m.\u001b[0m\u001b[0mtext\u001b[0m\u001b[0;34m)\u001b[0m\u001b[0;34m)\u001b[0m\u001b[0;34m)\u001b[0m\u001b[0;34m\u001b[0m\u001b[0;34m\u001b[0m\u001b[0m\n",
      "\u001b[0;32m~/.conda/envs/web/lib/python3.8/site-packages/requests/models.py\u001b[0m in \u001b[0;36mjson\u001b[0;34m(self, **kwargs)\u001b[0m\n\u001b[1;32m    895\u001b[0m                     \u001b[0;31m# used.\u001b[0m\u001b[0;34m\u001b[0m\u001b[0;34m\u001b[0m\u001b[0;34m\u001b[0m\u001b[0m\n\u001b[1;32m    896\u001b[0m                     \u001b[0;32mpass\u001b[0m\u001b[0;34m\u001b[0m\u001b[0;34m\u001b[0m\u001b[0m\n\u001b[0;32m--> 897\u001b[0;31m         \u001b[0;32mreturn\u001b[0m \u001b[0mcomplexjson\u001b[0m\u001b[0;34m.\u001b[0m\u001b[0mloads\u001b[0m\u001b[0;34m(\u001b[0m\u001b[0mself\u001b[0m\u001b[0;34m.\u001b[0m\u001b[0mtext\u001b[0m\u001b[0;34m,\u001b[0m \u001b[0;34m**\u001b[0m\u001b[0mkwargs\u001b[0m\u001b[0;34m)\u001b[0m\u001b[0;34m\u001b[0m\u001b[0;34m\u001b[0m\u001b[0m\n\u001b[0m\u001b[1;32m    898\u001b[0m \u001b[0;34m\u001b[0m\u001b[0m\n\u001b[1;32m    899\u001b[0m     \u001b[0;34m@\u001b[0m\u001b[0mproperty\u001b[0m\u001b[0;34m\u001b[0m\u001b[0;34m\u001b[0m\u001b[0m\n",
      "\u001b[0;32m~/.conda/envs/web/lib/python3.8/site-packages/requests/models.py\u001b[0m in \u001b[0;36mtext\u001b[0;34m(self)\u001b[0m\n\u001b[1;32m    855\u001b[0m         \u001b[0;31m# Fallback to auto-detected encoding.\u001b[0m\u001b[0;34m\u001b[0m\u001b[0;34m\u001b[0m\u001b[0;34m\u001b[0m\u001b[0m\n\u001b[1;32m    856\u001b[0m         \u001b[0;32mif\u001b[0m \u001b[0mself\u001b[0m\u001b[0;34m.\u001b[0m\u001b[0mencoding\u001b[0m \u001b[0;32mis\u001b[0m \u001b[0;32mNone\u001b[0m\u001b[0;34m:\u001b[0m\u001b[0;34m\u001b[0m\u001b[0;34m\u001b[0m\u001b[0m\n\u001b[0;32m--> 857\u001b[0;31m             \u001b[0mencoding\u001b[0m \u001b[0;34m=\u001b[0m \u001b[0mself\u001b[0m\u001b[0;34m.\u001b[0m\u001b[0mapparent_encoding\u001b[0m\u001b[0;34m\u001b[0m\u001b[0;34m\u001b[0m\u001b[0m\n\u001b[0m\u001b[1;32m    858\u001b[0m \u001b[0;34m\u001b[0m\u001b[0m\n\u001b[1;32m    859\u001b[0m         \u001b[0;31m# Decode unicode from given encoding.\u001b[0m\u001b[0;34m\u001b[0m\u001b[0;34m\u001b[0m\u001b[0;34m\u001b[0m\u001b[0m\n",
      "\u001b[0;32m~/.conda/envs/web/lib/python3.8/site-packages/requests/models.py\u001b[0m in \u001b[0;36mapparent_encoding\u001b[0;34m(self)\u001b[0m\n\u001b[1;32m    725\u001b[0m     \u001b[0;32mdef\u001b[0m \u001b[0mapparent_encoding\u001b[0m\u001b[0;34m(\u001b[0m\u001b[0mself\u001b[0m\u001b[0;34m)\u001b[0m\u001b[0;34m:\u001b[0m\u001b[0;34m\u001b[0m\u001b[0;34m\u001b[0m\u001b[0m\n\u001b[1;32m    726\u001b[0m         \u001b[0;34m\"\"\"The apparent encoding, provided by the chardet library.\"\"\"\u001b[0m\u001b[0;34m\u001b[0m\u001b[0;34m\u001b[0m\u001b[0m\n\u001b[0;32m--> 727\u001b[0;31m         \u001b[0;32mreturn\u001b[0m \u001b[0mchardet\u001b[0m\u001b[0;34m.\u001b[0m\u001b[0mdetect\u001b[0m\u001b[0;34m(\u001b[0m\u001b[0mself\u001b[0m\u001b[0;34m.\u001b[0m\u001b[0mcontent\u001b[0m\u001b[0;34m)\u001b[0m\u001b[0;34m[\u001b[0m\u001b[0;34m'encoding'\u001b[0m\u001b[0;34m]\u001b[0m\u001b[0;34m\u001b[0m\u001b[0;34m\u001b[0m\u001b[0m\n\u001b[0m\u001b[1;32m    728\u001b[0m \u001b[0;34m\u001b[0m\u001b[0m\n\u001b[1;32m    729\u001b[0m     \u001b[0;32mdef\u001b[0m \u001b[0miter_content\u001b[0m\u001b[0;34m(\u001b[0m\u001b[0mself\u001b[0m\u001b[0;34m,\u001b[0m \u001b[0mchunk_size\u001b[0m\u001b[0;34m=\u001b[0m\u001b[0;36m1\u001b[0m\u001b[0;34m,\u001b[0m \u001b[0mdecode_unicode\u001b[0m\u001b[0;34m=\u001b[0m\u001b[0;32mFalse\u001b[0m\u001b[0;34m)\u001b[0m\u001b[0;34m:\u001b[0m\u001b[0;34m\u001b[0m\u001b[0;34m\u001b[0m\u001b[0m\n",
      "\u001b[0;32m~/.conda/envs/web/lib/python3.8/site-packages/chardet/__init__.py\u001b[0m in \u001b[0;36mdetect\u001b[0;34m(byte_str)\u001b[0m\n\u001b[1;32m     36\u001b[0m             \u001b[0mbyte_str\u001b[0m \u001b[0;34m=\u001b[0m \u001b[0mbytearray\u001b[0m\u001b[0;34m(\u001b[0m\u001b[0mbyte_str\u001b[0m\u001b[0;34m)\u001b[0m\u001b[0;34m\u001b[0m\u001b[0;34m\u001b[0m\u001b[0m\n\u001b[1;32m     37\u001b[0m     \u001b[0mdetector\u001b[0m \u001b[0;34m=\u001b[0m \u001b[0mUniversalDetector\u001b[0m\u001b[0;34m(\u001b[0m\u001b[0;34m)\u001b[0m\u001b[0;34m\u001b[0m\u001b[0;34m\u001b[0m\u001b[0m\n\u001b[0;32m---> 38\u001b[0;31m     \u001b[0mdetector\u001b[0m\u001b[0;34m.\u001b[0m\u001b[0mfeed\u001b[0m\u001b[0;34m(\u001b[0m\u001b[0mbyte_str\u001b[0m\u001b[0;34m)\u001b[0m\u001b[0;34m\u001b[0m\u001b[0;34m\u001b[0m\u001b[0m\n\u001b[0m\u001b[1;32m     39\u001b[0m     \u001b[0;32mreturn\u001b[0m \u001b[0mdetector\u001b[0m\u001b[0;34m.\u001b[0m\u001b[0mclose\u001b[0m\u001b[0;34m(\u001b[0m\u001b[0;34m)\u001b[0m\u001b[0;34m\u001b[0m\u001b[0;34m\u001b[0m\u001b[0m\n",
      "\u001b[0;32m~/.conda/envs/web/lib/python3.8/site-packages/chardet/universaldetector.py\u001b[0m in \u001b[0;36mfeed\u001b[0;34m(self, byte_str)\u001b[0m\n\u001b[1;32m    209\u001b[0m                 \u001b[0mself\u001b[0m\u001b[0;34m.\u001b[0m\u001b[0m_charset_probers\u001b[0m\u001b[0;34m.\u001b[0m\u001b[0mappend\u001b[0m\u001b[0;34m(\u001b[0m\u001b[0mLatin1Prober\u001b[0m\u001b[0;34m(\u001b[0m\u001b[0;34m)\u001b[0m\u001b[0;34m)\u001b[0m\u001b[0;34m\u001b[0m\u001b[0;34m\u001b[0m\u001b[0m\n\u001b[1;32m    210\u001b[0m             \u001b[0;32mfor\u001b[0m \u001b[0mprober\u001b[0m \u001b[0;32min\u001b[0m \u001b[0mself\u001b[0m\u001b[0;34m.\u001b[0m\u001b[0m_charset_probers\u001b[0m\u001b[0;34m:\u001b[0m\u001b[0;34m\u001b[0m\u001b[0;34m\u001b[0m\u001b[0m\n\u001b[0;32m--> 211\u001b[0;31m                 \u001b[0;32mif\u001b[0m \u001b[0mprober\u001b[0m\u001b[0;34m.\u001b[0m\u001b[0mfeed\u001b[0m\u001b[0;34m(\u001b[0m\u001b[0mbyte_str\u001b[0m\u001b[0;34m)\u001b[0m \u001b[0;34m==\u001b[0m \u001b[0mProbingState\u001b[0m\u001b[0;34m.\u001b[0m\u001b[0mFOUND_IT\u001b[0m\u001b[0;34m:\u001b[0m\u001b[0;34m\u001b[0m\u001b[0;34m\u001b[0m\u001b[0m\n\u001b[0m\u001b[1;32m    212\u001b[0m                     self.result = {'encoding': prober.charset_name,\n\u001b[1;32m    213\u001b[0m                                    \u001b[0;34m'confidence'\u001b[0m\u001b[0;34m:\u001b[0m \u001b[0mprober\u001b[0m\u001b[0;34m.\u001b[0m\u001b[0mget_confidence\u001b[0m\u001b[0;34m(\u001b[0m\u001b[0;34m)\u001b[0m\u001b[0;34m,\u001b[0m\u001b[0;34m\u001b[0m\u001b[0;34m\u001b[0m\u001b[0m\n",
      "\u001b[0;32m~/.conda/envs/web/lib/python3.8/site-packages/chardet/charsetgroupprober.py\u001b[0m in \u001b[0;36mfeed\u001b[0;34m(self, byte_str)\u001b[0m\n\u001b[1;32m     69\u001b[0m             \u001b[0;32mif\u001b[0m \u001b[0;32mnot\u001b[0m \u001b[0mprober\u001b[0m\u001b[0;34m.\u001b[0m\u001b[0mactive\u001b[0m\u001b[0;34m:\u001b[0m\u001b[0;34m\u001b[0m\u001b[0;34m\u001b[0m\u001b[0m\n\u001b[1;32m     70\u001b[0m                 \u001b[0;32mcontinue\u001b[0m\u001b[0;34m\u001b[0m\u001b[0;34m\u001b[0m\u001b[0m\n\u001b[0;32m---> 71\u001b[0;31m             \u001b[0mstate\u001b[0m \u001b[0;34m=\u001b[0m \u001b[0mprober\u001b[0m\u001b[0;34m.\u001b[0m\u001b[0mfeed\u001b[0m\u001b[0;34m(\u001b[0m\u001b[0mbyte_str\u001b[0m\u001b[0;34m)\u001b[0m\u001b[0;34m\u001b[0m\u001b[0;34m\u001b[0m\u001b[0m\n\u001b[0m\u001b[1;32m     72\u001b[0m             \u001b[0;32mif\u001b[0m \u001b[0;32mnot\u001b[0m \u001b[0mstate\u001b[0m\u001b[0;34m:\u001b[0m\u001b[0;34m\u001b[0m\u001b[0;34m\u001b[0m\u001b[0m\n\u001b[1;32m     73\u001b[0m                 \u001b[0;32mcontinue\u001b[0m\u001b[0;34m\u001b[0m\u001b[0;34m\u001b[0m\u001b[0m\n",
      "\u001b[0;32m~/.conda/envs/web/lib/python3.8/site-packages/chardet/sbcharsetprober.py\u001b[0m in \u001b[0;36mfeed\u001b[0;34m(self, byte_str)\u001b[0m\n\u001b[1;32m     94\u001b[0m             \u001b[0;32mif\u001b[0m \u001b[0morder\u001b[0m \u001b[0;34m<\u001b[0m \u001b[0mself\u001b[0m\u001b[0;34m.\u001b[0m\u001b[0mSAMPLE_SIZE\u001b[0m\u001b[0;34m:\u001b[0m\u001b[0;34m\u001b[0m\u001b[0;34m\u001b[0m\u001b[0m\n\u001b[1;32m     95\u001b[0m                 \u001b[0mself\u001b[0m\u001b[0;34m.\u001b[0m\u001b[0m_freq_char\u001b[0m \u001b[0;34m+=\u001b[0m \u001b[0;36m1\u001b[0m\u001b[0;34m\u001b[0m\u001b[0;34m\u001b[0m\u001b[0m\n\u001b[0;32m---> 96\u001b[0;31m                 \u001b[0;32mif\u001b[0m \u001b[0mself\u001b[0m\u001b[0;34m.\u001b[0m\u001b[0m_last_order\u001b[0m \u001b[0;34m<\u001b[0m \u001b[0mself\u001b[0m\u001b[0;34m.\u001b[0m\u001b[0mSAMPLE_SIZE\u001b[0m\u001b[0;34m:\u001b[0m\u001b[0;34m\u001b[0m\u001b[0;34m\u001b[0m\u001b[0m\n\u001b[0m\u001b[1;32m     97\u001b[0m                     \u001b[0mself\u001b[0m\u001b[0;34m.\u001b[0m\u001b[0m_total_seqs\u001b[0m \u001b[0;34m+=\u001b[0m \u001b[0;36m1\u001b[0m\u001b[0;34m\u001b[0m\u001b[0;34m\u001b[0m\u001b[0m\n\u001b[1;32m     98\u001b[0m                     \u001b[0;32mif\u001b[0m \u001b[0;32mnot\u001b[0m \u001b[0mself\u001b[0m\u001b[0;34m.\u001b[0m\u001b[0m_reversed\u001b[0m\u001b[0;34m:\u001b[0m\u001b[0;34m\u001b[0m\u001b[0;34m\u001b[0m\u001b[0m\n",
      "\u001b[0;31mKeyboardInterrupt\u001b[0m: "
     ]
    }
   ],
   "source": [
    "for course in courses:\n",
    "    recursive_files(course.get_folders()[0], \n",
    "                    Path(\"/media/ExtHDD01/Courses_Materials/{}\".format(course.name.replace(\" \", \"_\"))).absolute())"
   ]
  },
  {
   "cell_type": "code",
   "execution_count": 99,
   "metadata": {},
   "outputs": [
    {
     "ename": "Unauthorized",
     "evalue": "[{'message': 'user not authorized to perform that action'}]",
     "output_type": "error",
     "traceback": [
      "\u001b[0;31m---------------------------------------------------------------------------\u001b[0m",
      "\u001b[0;31mUnauthorized\u001b[0m                              Traceback (most recent call last)",
      "\u001b[0;32m<ipython-input-99-255dd14be96b>\u001b[0m in \u001b[0;36m<module>\u001b[0;34m\u001b[0m\n\u001b[0;32m----> 1\u001b[0;31m \u001b[0mcourses\u001b[0m\u001b[0;34m[\u001b[0m\u001b[0;36m8\u001b[0m\u001b[0;34m]\u001b[0m\u001b[0;34m.\u001b[0m\u001b[0mget_folders\u001b[0m\u001b[0;34m(\u001b[0m\u001b[0;34m)\u001b[0m\u001b[0;34m[\u001b[0m\u001b[0;36m0\u001b[0m\u001b[0;34m]\u001b[0m\u001b[0;34m.\u001b[0m\u001b[0mget_files\u001b[0m\u001b[0;34m(\u001b[0m\u001b[0;34m)\u001b[0m\u001b[0;34m[\u001b[0m\u001b[0;36m0\u001b[0m\u001b[0;34m]\u001b[0m\u001b[0;34m\u001b[0m\u001b[0;34m\u001b[0m\u001b[0m\n\u001b[0m",
      "\u001b[0;32m~/.conda/envs/web/lib/python3.8/site-packages/canvasapi/paginated_list.py\u001b[0m in \u001b[0;36m__getitem__\u001b[0;34m(self, index)\u001b[0m\n\u001b[1;32m     14\u001b[0m             \u001b[0;32mif\u001b[0m \u001b[0mindex\u001b[0m \u001b[0;34m<\u001b[0m \u001b[0;36m0\u001b[0m\u001b[0;34m:\u001b[0m\u001b[0;34m\u001b[0m\u001b[0;34m\u001b[0m\u001b[0m\n\u001b[1;32m     15\u001b[0m                 \u001b[0;32mraise\u001b[0m \u001b[0mIndexError\u001b[0m\u001b[0;34m(\u001b[0m\u001b[0;34m\"Cannot negative index a PaginatedList\"\u001b[0m\u001b[0;34m)\u001b[0m\u001b[0;34m\u001b[0m\u001b[0;34m\u001b[0m\u001b[0m\n\u001b[0;32m---> 16\u001b[0;31m             \u001b[0mself\u001b[0m\u001b[0;34m.\u001b[0m\u001b[0m_get_up_to_index\u001b[0m\u001b[0;34m(\u001b[0m\u001b[0mindex\u001b[0m\u001b[0;34m)\u001b[0m\u001b[0;34m\u001b[0m\u001b[0;34m\u001b[0m\u001b[0m\n\u001b[0m\u001b[1;32m     17\u001b[0m             \u001b[0;32mreturn\u001b[0m \u001b[0mself\u001b[0m\u001b[0;34m.\u001b[0m\u001b[0m_elements\u001b[0m\u001b[0;34m[\u001b[0m\u001b[0mindex\u001b[0m\u001b[0;34m]\u001b[0m\u001b[0;34m\u001b[0m\u001b[0;34m\u001b[0m\u001b[0m\n\u001b[1;32m     18\u001b[0m         \u001b[0;32melse\u001b[0m\u001b[0;34m:\u001b[0m\u001b[0;34m\u001b[0m\u001b[0;34m\u001b[0m\u001b[0m\n",
      "\u001b[0;32m~/.conda/envs/web/lib/python3.8/site-packages/canvasapi/paginated_list.py\u001b[0m in \u001b[0;36m_get_up_to_index\u001b[0;34m(self, index)\u001b[0m\n\u001b[1;32m     88\u001b[0m     \u001b[0;32mdef\u001b[0m \u001b[0m_get_up_to_index\u001b[0m\u001b[0;34m(\u001b[0m\u001b[0mself\u001b[0m\u001b[0;34m,\u001b[0m \u001b[0mindex\u001b[0m\u001b[0;34m)\u001b[0m\u001b[0;34m:\u001b[0m\u001b[0;34m\u001b[0m\u001b[0;34m\u001b[0m\u001b[0m\n\u001b[1;32m     89\u001b[0m         \u001b[0;32mwhile\u001b[0m \u001b[0mlen\u001b[0m\u001b[0;34m(\u001b[0m\u001b[0mself\u001b[0m\u001b[0;34m.\u001b[0m\u001b[0m_elements\u001b[0m\u001b[0;34m)\u001b[0m \u001b[0;34m<=\u001b[0m \u001b[0mindex\u001b[0m \u001b[0;32mand\u001b[0m \u001b[0mself\u001b[0m\u001b[0;34m.\u001b[0m\u001b[0m_has_next\u001b[0m\u001b[0;34m(\u001b[0m\u001b[0;34m)\u001b[0m\u001b[0;34m:\u001b[0m\u001b[0;34m\u001b[0m\u001b[0;34m\u001b[0m\u001b[0m\n\u001b[0;32m---> 90\u001b[0;31m             \u001b[0mself\u001b[0m\u001b[0;34m.\u001b[0m\u001b[0m_grow\u001b[0m\u001b[0;34m(\u001b[0m\u001b[0;34m)\u001b[0m\u001b[0;34m\u001b[0m\u001b[0;34m\u001b[0m\u001b[0m\n\u001b[0m\u001b[1;32m     91\u001b[0m \u001b[0;34m\u001b[0m\u001b[0m\n\u001b[1;32m     92\u001b[0m     \u001b[0;32mdef\u001b[0m \u001b[0m_grow\u001b[0m\u001b[0;34m(\u001b[0m\u001b[0mself\u001b[0m\u001b[0;34m)\u001b[0m\u001b[0;34m:\u001b[0m\u001b[0;34m\u001b[0m\u001b[0;34m\u001b[0m\u001b[0m\n",
      "\u001b[0;32m~/.conda/envs/web/lib/python3.8/site-packages/canvasapi/paginated_list.py\u001b[0m in \u001b[0;36m_grow\u001b[0;34m(self)\u001b[0m\n\u001b[1;32m     91\u001b[0m \u001b[0;34m\u001b[0m\u001b[0m\n\u001b[1;32m     92\u001b[0m     \u001b[0;32mdef\u001b[0m \u001b[0m_grow\u001b[0m\u001b[0;34m(\u001b[0m\u001b[0mself\u001b[0m\u001b[0;34m)\u001b[0m\u001b[0;34m:\u001b[0m\u001b[0;34m\u001b[0m\u001b[0;34m\u001b[0m\u001b[0m\n\u001b[0;32m---> 93\u001b[0;31m         \u001b[0mnew_elements\u001b[0m \u001b[0;34m=\u001b[0m \u001b[0mself\u001b[0m\u001b[0;34m.\u001b[0m\u001b[0m_get_next_page\u001b[0m\u001b[0;34m(\u001b[0m\u001b[0;34m)\u001b[0m\u001b[0;34m\u001b[0m\u001b[0;34m\u001b[0m\u001b[0m\n\u001b[0m\u001b[1;32m     94\u001b[0m         \u001b[0mself\u001b[0m\u001b[0;34m.\u001b[0m\u001b[0m_elements\u001b[0m \u001b[0;34m+=\u001b[0m \u001b[0mnew_elements\u001b[0m\u001b[0;34m\u001b[0m\u001b[0;34m\u001b[0m\u001b[0m\n\u001b[1;32m     95\u001b[0m         \u001b[0;32mreturn\u001b[0m \u001b[0mnew_elements\u001b[0m\u001b[0;34m\u001b[0m\u001b[0;34m\u001b[0m\u001b[0m\n",
      "\u001b[0;32m~/.conda/envs/web/lib/python3.8/site-packages/canvasapi/paginated_list.py\u001b[0m in \u001b[0;36m_get_next_page\u001b[0;34m(self)\u001b[0m\n\u001b[1;32m     55\u001b[0m \u001b[0;34m\u001b[0m\u001b[0m\n\u001b[1;32m     56\u001b[0m     \u001b[0;32mdef\u001b[0m \u001b[0m_get_next_page\u001b[0m\u001b[0;34m(\u001b[0m\u001b[0mself\u001b[0m\u001b[0;34m)\u001b[0m\u001b[0;34m:\u001b[0m\u001b[0;34m\u001b[0m\u001b[0;34m\u001b[0m\u001b[0m\n\u001b[0;32m---> 57\u001b[0;31m         response = self._requester.request(\n\u001b[0m\u001b[1;32m     58\u001b[0m             \u001b[0mself\u001b[0m\u001b[0;34m.\u001b[0m\u001b[0m_request_method\u001b[0m\u001b[0;34m,\u001b[0m \u001b[0mself\u001b[0m\u001b[0;34m.\u001b[0m\u001b[0m_next_url\u001b[0m\u001b[0;34m,\u001b[0m \u001b[0;34m**\u001b[0m\u001b[0mself\u001b[0m\u001b[0;34m.\u001b[0m\u001b[0m_next_params\u001b[0m\u001b[0;34m\u001b[0m\u001b[0;34m\u001b[0m\u001b[0m\n\u001b[1;32m     59\u001b[0m         )\n",
      "\u001b[0;32m~/.conda/envs/web/lib/python3.8/site-packages/canvasapi/requester.py\u001b[0m in \u001b[0;36mrequest\u001b[0;34m(self, method, endpoint, headers, use_auth, _url, _kwargs, **kwargs)\u001b[0m\n\u001b[1;32m    225\u001b[0m                 \u001b[0;32mraise\u001b[0m \u001b[0mInvalidAccessToken\u001b[0m\u001b[0;34m(\u001b[0m\u001b[0mresponse\u001b[0m\u001b[0;34m.\u001b[0m\u001b[0mjson\u001b[0m\u001b[0;34m(\u001b[0m\u001b[0;34m)\u001b[0m\u001b[0;34m)\u001b[0m\u001b[0;34m\u001b[0m\u001b[0;34m\u001b[0m\u001b[0m\n\u001b[1;32m    226\u001b[0m             \u001b[0;32melse\u001b[0m\u001b[0;34m:\u001b[0m\u001b[0;34m\u001b[0m\u001b[0;34m\u001b[0m\u001b[0m\n\u001b[0;32m--> 227\u001b[0;31m                 \u001b[0;32mraise\u001b[0m \u001b[0mUnauthorized\u001b[0m\u001b[0;34m(\u001b[0m\u001b[0mresponse\u001b[0m\u001b[0;34m.\u001b[0m\u001b[0mjson\u001b[0m\u001b[0;34m(\u001b[0m\u001b[0;34m)\u001b[0m\u001b[0;34m)\u001b[0m\u001b[0;34m\u001b[0m\u001b[0;34m\u001b[0m\u001b[0m\n\u001b[0m\u001b[1;32m    228\u001b[0m         \u001b[0;32melif\u001b[0m \u001b[0mresponse\u001b[0m\u001b[0;34m.\u001b[0m\u001b[0mstatus_code\u001b[0m \u001b[0;34m==\u001b[0m \u001b[0;36m403\u001b[0m\u001b[0;34m:\u001b[0m\u001b[0;34m\u001b[0m\u001b[0;34m\u001b[0m\u001b[0m\n\u001b[1;32m    229\u001b[0m             \u001b[0;32mraise\u001b[0m \u001b[0mForbidden\u001b[0m\u001b[0;34m(\u001b[0m\u001b[0mresponse\u001b[0m\u001b[0;34m.\u001b[0m\u001b[0mtext\u001b[0m\u001b[0;34m)\u001b[0m\u001b[0;34m\u001b[0m\u001b[0;34m\u001b[0m\u001b[0m\n",
      "\u001b[0;31mUnauthorized\u001b[0m: [{'message': 'user not authorized to perform that action'}]"
     ]
    }
   ],
   "source": [
    "courses[8].get_folders()[0].get_files()[0]"
   ]
  },
  {
   "cell_type": "code",
   "execution_count": 27,
   "metadata": {},
   "outputs": [],
   "source": [
    "from multiprocessing import Pool"
   ]
  },
  {
   "cell_type": "code",
   "execution_count": 59,
   "metadata": {
    "scrolled": true
   },
   "outputs": [
    {
     "name": "stdout",
     "output_type": "stream",
     "text": [
      "1 sleeped for 0.0 seconds\n",
      "7 sleeped for 0.5714285714285714 seconds\n",
      "5 sleeped for 0.8 seconds\n",
      "8 sleeped for 0.25 seconds\n",
      "9 sleeped for 0.3333333333333333 seconds\n",
      "10 sleeped for 0.1 seconds\n",
      "6 sleeped for 0.6666666666666666 seconds\n",
      "11 sleeped for 0.36363636363636365 seconds\n",
      "3 sleeped for 1.6666666666666667 seconds\n",
      "13 sleeped for 0.3076923076923077 seconds\n",
      "14 sleeped for 0.07142857142857142 seconds\n",
      "12 sleeped for 0.25 seconds\n",
      "17 sleeped for 0.058823529411764705 seconds\n",
      "2 sleeped for 2.0 seconds\n",
      "15 sleeped for 0.2 seconds\n",
      "18 sleeped for 0.16666666666666666 seconds\n",
      "19 sleeped for 0.15789473684210525 seconds\n",
      "16 sleeped for 0.1875 seconds\n",
      "4 sleeped for 1.0 seconds\n",
      "7 sleeped for 0.0 seconds\n",
      "8 sleeped for 0.0 seconds\n",
      "9 sleeped for 0.1111111111111111 seconds\n",
      "10 sleeped for 0.3 seconds\n",
      "11 sleeped for 0.09090909090909091 seconds\n",
      "12 sleeped for 0.08333333333333333 seconds\n",
      "3 sleeped for 0.6666666666666666 seconds\n",
      "5 sleeped for 0.8 seconds\n",
      "13 sleeped for 0.23076923076923078 seconds\n",
      "14 sleeped for 0.14285714285714285 seconds\n",
      "4 sleeped for 0.5 seconds\n",
      "15 sleeped for 0.2 seconds\n",
      "16 sleeped for 0.0 seconds\n",
      "17 sleeped for 0.23529411764705882 seconds\n",
      "19 sleeped for 0.2631578947368421 seconds\n",
      "6 sleeped for 0.6666666666666666 seconds\n",
      "18 sleeped for 0.2222222222222222 seconds\n",
      "1 sleeped for 5.0 seconds\n",
      "2 sleeped for 2.5 seconds\n"
     ]
    },
    {
     "name": "stderr",
     "output_type": "stream",
     "text": [
      "Process ForkPoolWorker-22:\n",
      "Process ForkPoolWorker-23:\n",
      "Process ForkPoolWorker-21:\n",
      "Traceback (most recent call last):\n",
      "Traceback (most recent call last):\n",
      "  File \"/home/henryhuang/.conda/envs/web/lib/python3.8/multiprocessing/process.py\", line 315, in _bootstrap\n",
      "    self.run()\n",
      "  File \"/home/henryhuang/.conda/envs/web/lib/python3.8/multiprocessing/process.py\", line 108, in run\n",
      "    self._target(*self._args, **self._kwargs)\n",
      "  File \"/home/henryhuang/.conda/envs/web/lib/python3.8/multiprocessing/pool.py\", line 114, in worker\n",
      "    task = get()\n",
      "Process ForkPoolWorker-24:\n",
      "  File \"/home/henryhuang/.conda/envs/web/lib/python3.8/multiprocessing/process.py\", line 315, in _bootstrap\n",
      "    self.run()\n",
      "Traceback (most recent call last):\n",
      "  File \"/home/henryhuang/.conda/envs/web/lib/python3.8/multiprocessing/queues.py\", line 355, in get\n",
      "    with self._rlock:\n",
      "  File \"/home/henryhuang/.conda/envs/web/lib/python3.8/multiprocessing/process.py\", line 315, in _bootstrap\n",
      "    self.run()\n",
      "  File \"/home/henryhuang/.conda/envs/web/lib/python3.8/multiprocessing/process.py\", line 108, in run\n",
      "    self._target(*self._args, **self._kwargs)\n",
      "  File \"/home/henryhuang/.conda/envs/web/lib/python3.8/multiprocessing/process.py\", line 108, in run\n",
      "    self._target(*self._args, **self._kwargs)\n",
      "Traceback (most recent call last):\n",
      "  File \"/home/henryhuang/.conda/envs/web/lib/python3.8/multiprocessing/pool.py\", line 114, in worker\n",
      "    task = get()\n",
      "  File \"/home/henryhuang/.conda/envs/web/lib/python3.8/multiprocessing/pool.py\", line 114, in worker\n",
      "    task = get()\n",
      "  File \"/home/henryhuang/.conda/envs/web/lib/python3.8/multiprocessing/synchronize.py\", line 95, in __enter__\n",
      "    return self._semlock.__enter__()\n",
      "  File \"/home/henryhuang/.conda/envs/web/lib/python3.8/multiprocessing/process.py\", line 315, in _bootstrap\n",
      "    self.run()\n",
      "  File \"/home/henryhuang/.conda/envs/web/lib/python3.8/multiprocessing/process.py\", line 108, in run\n",
      "    self._target(*self._args, **self._kwargs)\n",
      "  File \"/home/henryhuang/.conda/envs/web/lib/python3.8/multiprocessing/queues.py\", line 355, in get\n",
      "    with self._rlock:\n",
      "  File \"/home/henryhuang/.conda/envs/web/lib/python3.8/multiprocessing/queues.py\", line 356, in get\n",
      "    res = self._reader.recv_bytes()\n",
      "  File \"/home/henryhuang/.conda/envs/web/lib/python3.8/multiprocessing/pool.py\", line 114, in worker\n",
      "    task = get()\n",
      "KeyboardInterrupt\n",
      "  File \"/home/henryhuang/.conda/envs/web/lib/python3.8/multiprocessing/queues.py\", line 355, in get\n",
      "    with self._rlock:\n",
      "  File \"/home/henryhuang/.conda/envs/web/lib/python3.8/multiprocessing/synchronize.py\", line 95, in __enter__\n",
      "    return self._semlock.__enter__()\n",
      "  File \"/home/henryhuang/.conda/envs/web/lib/python3.8/multiprocessing/synchronize.py\", line 95, in __enter__\n",
      "    return self._semlock.__enter__()\n",
      "KeyboardInterrupt\n",
      "KeyboardInterrupt\n",
      "  File \"/home/henryhuang/.conda/envs/web/lib/python3.8/multiprocessing/connection.py\", line 216, in recv_bytes\n",
      "    buf = self._recv_bytes(maxlength)\n",
      "  File \"/home/henryhuang/.conda/envs/web/lib/python3.8/multiprocessing/connection.py\", line 414, in _recv_bytes\n",
      "    buf = self._recv(4)\n",
      "  File \"/home/henryhuang/.conda/envs/web/lib/python3.8/multiprocessing/connection.py\", line 379, in _recv\n",
      "    chunk = read(handle, remaining)\n",
      "KeyboardInterrupt\n"
     ]
    }
   ],
   "source": [
    "pool = Pool(processes=4)"
   ]
  },
  {
   "cell_type": "code",
   "execution_count": 41,
   "metadata": {},
   "outputs": [],
   "source": [
    "from random import randint"
   ]
  },
  {
   "cell_type": "code",
   "execution_count": 42,
   "metadata": {},
   "outputs": [],
   "source": [
    "from time import sleep"
   ]
  },
  {
   "cell_type": "code",
   "execution_count": 53,
   "metadata": {},
   "outputs": [],
   "source": [
    "def random_sleep(x):\n",
    "    st = randint(a=0,b=5) / x\n",
    "    sleep(st)\n",
    "    print(\"{} sleeped for {} seconds\".format(x, st))"
   ]
  },
  {
   "cell_type": "code",
   "execution_count": 68,
   "metadata": {},
   "outputs": [
    {
     "data": {
      "text/plain": [
       "[('Columbia+Engineering+Executive+Presence.pdf', 1147.73828125),\n",
       " ('ENGI_4000_F19_Overview_6+-+DSI.pdf', 1464.046875),\n",
       " ('ENGI_4000_F19_Resume_6+-+DSI.pdf', 3196.1259765625),\n",
       " ('ENGI_4000_F19_Writing_EMS.pdf', 2752.6328125),\n",
       " ('ENGI_4000_PDL_Syllabus_Fall2019.pdf', 141.0615234375),\n",
       " ('Garcia+Intro+to+Ethics+Columbia+Engineering.pdf', 1448.2744140625),\n",
       " ('In.Person.Communication.Columbia.PDL.pdf', 259229.662109375),\n",
       " ('PDF+Columbia+PDL_LinkedIn_UPDATED.pdf', 47266.7783203125),\n",
       " ('Section6.DSI.pdf', 75.91796875),\n",
       " ('SQL101.Slides.pdf', 605.177734375)]"
      ]
     },
     "execution_count": 68,
     "metadata": {},
     "output_type": "execute_result"
    }
   ],
   "source": [
    "[(f.filename, f.size / 1024, ) for f in courses[5].get_files()]"
   ]
  },
  {
   "cell_type": "code",
   "execution_count": 76,
   "metadata": {},
   "outputs": [
    {
     "data": {
      "text/plain": [
       "'https://courseworks2.columbia.edu/files/5654386/download?download_frd=1&verifier=SC5bcLRQGJIWVzSV5hJs3QevhZViIQVqQ6w51Lvn'"
      ]
     },
     "execution_count": 76,
     "metadata": {},
     "output_type": "execute_result"
    }
   ],
   "source": [
    "courses[5].get_files()[6].url"
   ]
  },
  {
   "cell_type": "code",
   "execution_count": 74,
   "metadata": {},
   "outputs": [],
   "source": [
    "import requests"
   ]
  },
  {
   "cell_type": "code",
   "execution_count": 77,
   "metadata": {},
   "outputs": [
    {
     "data": {
      "text/plain": [
       "<Response [200]>"
      ]
     },
     "execution_count": 77,
     "metadata": {},
     "output_type": "execute_result"
    }
   ],
   "source": [
    "requests.get(\"https://courseworks2.columbia.edu/files/5654386/download?download_frd=1&verifier=SC5bcLRQGJIWVzSV5hJs3QevhZViIQVqQ6w51Lvn\")"
   ]
  },
  {
   "cell_type": "code",
   "execution_count": 78,
   "metadata": {},
   "outputs": [],
   "source": [
    "r = _"
   ]
  },
  {
   "cell_type": "code",
   "execution_count": 83,
   "metadata": {},
   "outputs": [],
   "source": [
    "with open(Path(\"./test.pdf\"), \"wb\") as f:\n",
    "    f.write(r.content)"
   ]
  },
  {
   "cell_type": "code",
   "execution_count": 82,
   "metadata": {},
   "outputs": [
    {
     "ename": "NameError",
     "evalue": "name 'size' is not defined",
     "output_type": "error",
     "traceback": [
      "\u001b[0;31m---------------------------------------------------------------------------\u001b[0m",
      "\u001b[0;31mNameError\u001b[0m                                 Traceback (most recent call last)",
      "\u001b[0;32m<ipython-input-82-69a73d314862>\u001b[0m in \u001b[0;36m<module>\u001b[0;34m\u001b[0m\n\u001b[0;32m----> 1\u001b[0;31m \u001b[0msize\u001b[0m\u001b[0;34m(\u001b[0m\u001b[0;34m)\u001b[0m\u001b[0;34m\u001b[0m\u001b[0;34m\u001b[0m\u001b[0m\n\u001b[0m",
      "\u001b[0;31mNameError\u001b[0m: name 'size' is not defined"
     ]
    }
   ],
   "source": [
    "size()"
   ]
  },
  {
   "cell_type": "code",
   "execution_count": null,
   "metadata": {},
   "outputs": [],
   "source": []
  }
 ],
 "metadata": {
  "kernelspec": {
   "display_name": "Python3 (web)",
   "language": "python",
   "name": "web"
  },
  "language_info": {
   "codemirror_mode": {
    "name": "ipython",
    "version": 3
   },
   "file_extension": ".py",
   "mimetype": "text/x-python",
   "name": "python",
   "nbconvert_exporter": "python",
   "pygments_lexer": "ipython3",
   "version": "3.8.1"
  }
 },
 "nbformat": 4,
 "nbformat_minor": 2
}
